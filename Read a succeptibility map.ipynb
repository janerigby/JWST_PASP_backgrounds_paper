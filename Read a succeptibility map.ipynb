{
 "cells": [
  {
   "cell_type": "markdown",
   "id": "757aaf3e",
   "metadata": {},
   "source": [
    "Read in one of Paul Lightsey's stray light susceptibility maps and plot it for the paper.  Oct 2022 jrigby"
   ]
  },
  {
   "cell_type": "code",
   "execution_count": 77,
   "id": "2ddbe532",
   "metadata": {},
   "outputs": [],
   "source": [
    "import pandas\n",
    "import matplotlib.pyplot as plt\n",
    "import numpy as np\n",
    "from astropy.io import fits\n",
    "import numpy as np\n",
    "from astropy.table import Table\n",
    "import cartopy.crs as ccrs"
   ]
  },
  {
   "cell_type": "code",
   "execution_count": 78,
   "id": "b2dc77d2",
   "metadata": {},
   "outputs": [],
   "source": [
    "straylight_dir = '/Users/jrrigby1/SCIENCE/JWST_Data/Prelaunch_JWST_Backgrounds/Stray_light/'\n",
    "sus_map = straylight_dir + 'stray_light_RTF_maps_hacked_for_machineread.xlsx'"
   ]
  },
  {
   "cell_type": "code",
   "execution_count": 79,
   "id": "77b5ea39",
   "metadata": {},
   "outputs": [
    {
     "data": {
      "text/html": [
       "<div>\n",
       "<style scoped>\n",
       "    .dataframe tbody tr th:only-of-type {\n",
       "        vertical-align: middle;\n",
       "    }\n",
       "\n",
       "    .dataframe tbody tr th {\n",
       "        vertical-align: top;\n",
       "    }\n",
       "\n",
       "    .dataframe thead th {\n",
       "        text-align: right;\n",
       "    }\n",
       "</style>\n",
       "<table border=\"1\" class=\"dataframe\">\n",
       "  <thead>\n",
       "    <tr style=\"text-align: right;\">\n",
       "      <th></th>\n",
       "      <th>-178.5</th>\n",
       "      <th>-175.5</th>\n",
       "      <th>-172.5</th>\n",
       "      <th>-169.5</th>\n",
       "      <th>-166.5</th>\n",
       "      <th>-163.5</th>\n",
       "      <th>-160.5</th>\n",
       "      <th>-157.5</th>\n",
       "      <th>-154.5</th>\n",
       "      <th>-151.5</th>\n",
       "      <th>...</th>\n",
       "      <th>151.5</th>\n",
       "      <th>154.5</th>\n",
       "      <th>157.5</th>\n",
       "      <th>160.5</th>\n",
       "      <th>163.5</th>\n",
       "      <th>166.5</th>\n",
       "      <th>169.5</th>\n",
       "      <th>172.5</th>\n",
       "      <th>175.5</th>\n",
       "      <th>178.5</th>\n",
       "    </tr>\n",
       "    <tr>\n",
       "      <th>coelevation_angle</th>\n",
       "      <th></th>\n",
       "      <th></th>\n",
       "      <th></th>\n",
       "      <th></th>\n",
       "      <th></th>\n",
       "      <th></th>\n",
       "      <th></th>\n",
       "      <th></th>\n",
       "      <th></th>\n",
       "      <th></th>\n",
       "      <th></th>\n",
       "      <th></th>\n",
       "      <th></th>\n",
       "      <th></th>\n",
       "      <th></th>\n",
       "      <th></th>\n",
       "      <th></th>\n",
       "      <th></th>\n",
       "      <th></th>\n",
       "      <th></th>\n",
       "      <th></th>\n",
       "    </tr>\n",
       "  </thead>\n",
       "  <tbody>\n",
       "    <tr>\n",
       "      <th>1.5</th>\n",
       "      <td>0.000133</td>\n",
       "      <td>0.000132</td>\n",
       "      <td>0.000132</td>\n",
       "      <td>0.000133</td>\n",
       "      <td>0.000132</td>\n",
       "      <td>0.000131</td>\n",
       "      <td>0.000131</td>\n",
       "      <td>0.000131</td>\n",
       "      <td>0.000131</td>\n",
       "      <td>0.000130</td>\n",
       "      <td>...</td>\n",
       "      <td>0.000161</td>\n",
       "      <td>0.000159</td>\n",
       "      <td>0.000156</td>\n",
       "      <td>0.000152</td>\n",
       "      <td>0.000149</td>\n",
       "      <td>0.000147</td>\n",
       "      <td>0.000144</td>\n",
       "      <td>0.000142</td>\n",
       "      <td>0.000139</td>\n",
       "      <td>0.000136</td>\n",
       "    </tr>\n",
       "    <tr>\n",
       "      <th>4.5</th>\n",
       "      <td>0.000050</td>\n",
       "      <td>0.000051</td>\n",
       "      <td>0.000051</td>\n",
       "      <td>0.000052</td>\n",
       "      <td>0.000053</td>\n",
       "      <td>0.000053</td>\n",
       "      <td>0.000052</td>\n",
       "      <td>0.000052</td>\n",
       "      <td>0.000051</td>\n",
       "      <td>0.000052</td>\n",
       "      <td>...</td>\n",
       "      <td>0.000056</td>\n",
       "      <td>0.000055</td>\n",
       "      <td>0.000055</td>\n",
       "      <td>0.000055</td>\n",
       "      <td>0.000051</td>\n",
       "      <td>0.000051</td>\n",
       "      <td>0.000050</td>\n",
       "      <td>0.000050</td>\n",
       "      <td>0.000050</td>\n",
       "      <td>0.000050</td>\n",
       "    </tr>\n",
       "    <tr>\n",
       "      <th>7.5</th>\n",
       "      <td>0.000068</td>\n",
       "      <td>0.000068</td>\n",
       "      <td>0.000067</td>\n",
       "      <td>0.000066</td>\n",
       "      <td>0.000067</td>\n",
       "      <td>0.000070</td>\n",
       "      <td>0.000071</td>\n",
       "      <td>0.000065</td>\n",
       "      <td>0.000059</td>\n",
       "      <td>0.000054</td>\n",
       "      <td>...</td>\n",
       "      <td>0.000035</td>\n",
       "      <td>0.000037</td>\n",
       "      <td>0.000039</td>\n",
       "      <td>0.000045</td>\n",
       "      <td>0.000051</td>\n",
       "      <td>0.000056</td>\n",
       "      <td>0.000061</td>\n",
       "      <td>0.000060</td>\n",
       "      <td>0.000062</td>\n",
       "      <td>0.000066</td>\n",
       "    </tr>\n",
       "    <tr>\n",
       "      <th>10.5</th>\n",
       "      <td>0.000048</td>\n",
       "      <td>0.000052</td>\n",
       "      <td>0.000055</td>\n",
       "      <td>0.000059</td>\n",
       "      <td>0.000060</td>\n",
       "      <td>0.000053</td>\n",
       "      <td>0.000047</td>\n",
       "      <td>0.000040</td>\n",
       "      <td>0.000034</td>\n",
       "      <td>0.000032</td>\n",
       "      <td>...</td>\n",
       "      <td>0.000029</td>\n",
       "      <td>0.000031</td>\n",
       "      <td>0.000031</td>\n",
       "      <td>0.000030</td>\n",
       "      <td>0.000031</td>\n",
       "      <td>0.000033</td>\n",
       "      <td>0.000035</td>\n",
       "      <td>0.000040</td>\n",
       "      <td>0.000043</td>\n",
       "      <td>0.000045</td>\n",
       "    </tr>\n",
       "    <tr>\n",
       "      <th>13.5</th>\n",
       "      <td>0.000095</td>\n",
       "      <td>0.000094</td>\n",
       "      <td>0.000096</td>\n",
       "      <td>0.000025</td>\n",
       "      <td>0.000024</td>\n",
       "      <td>0.000024</td>\n",
       "      <td>0.000022</td>\n",
       "      <td>0.000020</td>\n",
       "      <td>0.000020</td>\n",
       "      <td>0.000020</td>\n",
       "      <td>...</td>\n",
       "      <td>0.000021</td>\n",
       "      <td>0.000021</td>\n",
       "      <td>0.000022</td>\n",
       "      <td>0.000022</td>\n",
       "      <td>0.000022</td>\n",
       "      <td>0.000020</td>\n",
       "      <td>0.000021</td>\n",
       "      <td>0.000022</td>\n",
       "      <td>0.000023</td>\n",
       "      <td>0.000096</td>\n",
       "    </tr>\n",
       "  </tbody>\n",
       "</table>\n",
       "<p>5 rows × 120 columns</p>\n",
       "</div>"
      ],
      "text/plain": [
       "                     -178.5    -175.5    -172.5    -169.5    -166.5    -163.5  \\\n",
       "coelevation_angle                                                               \n",
       "1.5                0.000133  0.000132  0.000132  0.000133  0.000132  0.000131   \n",
       "4.5                0.000050  0.000051  0.000051  0.000052  0.000053  0.000053   \n",
       "7.5                0.000068  0.000068  0.000067  0.000066  0.000067  0.000070   \n",
       "10.5               0.000048  0.000052  0.000055  0.000059  0.000060  0.000053   \n",
       "13.5               0.000095  0.000094  0.000096  0.000025  0.000024  0.000024   \n",
       "\n",
       "                     -160.5    -157.5    -154.5    -151.5  ...     151.5  \\\n",
       "coelevation_angle                                          ...             \n",
       "1.5                0.000131  0.000131  0.000131  0.000130  ...  0.000161   \n",
       "4.5                0.000052  0.000052  0.000051  0.000052  ...  0.000056   \n",
       "7.5                0.000071  0.000065  0.000059  0.000054  ...  0.000035   \n",
       "10.5               0.000047  0.000040  0.000034  0.000032  ...  0.000029   \n",
       "13.5               0.000022  0.000020  0.000020  0.000020  ...  0.000021   \n",
       "\n",
       "                      154.5     157.5     160.5     163.5     166.5     169.5  \\\n",
       "coelevation_angle                                                               \n",
       "1.5                0.000159  0.000156  0.000152  0.000149  0.000147  0.000144   \n",
       "4.5                0.000055  0.000055  0.000055  0.000051  0.000051  0.000050   \n",
       "7.5                0.000037  0.000039  0.000045  0.000051  0.000056  0.000061   \n",
       "10.5               0.000031  0.000031  0.000030  0.000031  0.000033  0.000035   \n",
       "13.5               0.000021  0.000022  0.000022  0.000022  0.000020  0.000021   \n",
       "\n",
       "                      172.5     175.5     178.5  \n",
       "coelevation_angle                                \n",
       "1.5                0.000142  0.000139  0.000136  \n",
       "4.5                0.000050  0.000050  0.000050  \n",
       "7.5                0.000060  0.000062  0.000066  \n",
       "10.5               0.000040  0.000043  0.000045  \n",
       "13.5               0.000022  0.000023  0.000096  \n",
       "\n",
       "[5 rows x 120 columns]"
      ]
     },
     "execution_count": 79,
     "metadata": {},
     "output_type": "execute_result"
    }
   ],
   "source": [
    "df = pandas.read_excel(sus_map, sheet_name='2um RTF')\n",
    "df.set_index('coelevation_angle', inplace=True)\n",
    "# column headers are azimuth angle\n",
    "df.head()"
   ]
  },
  {
   "cell_type": "code",
   "execution_count": 80,
   "id": "f5dcfe5d",
   "metadata": {},
   "outputs": [
    {
     "data": {
      "text/plain": [
       "(array([  1.5,   4.5,   7.5,  10.5,  13.5,  16.5,  19.5,  22.5,  25.5,\n",
       "         28.5,  31.5,  34.5,  37.5,  40.5,  43.5,  46.5,  49.5,  52.5,\n",
       "         55.5,  58.5,  61.5,  64.5,  67.5,  70.5,  73.5,  76.5,  79.5,\n",
       "         82.5,  85.5,  88.5,  91.5,  94.5,  97.5, 100.5, 103.5, 106.5,\n",
       "        109.5, 112.5, 115.5, 118.5, 121.5, 124.5, 127.5, 130.5, 133.5,\n",
       "        136.5, 139.5, 142.5, 145.5, 148.5, 151.5, 154.5, 157.5, 160.5,\n",
       "        163.5, 166.5, 169.5, 172.5, 175.5, 178.5]),\n",
       " array([-178.5, -175.5, -172.5, -169.5, -166.5, -163.5, -160.5, -157.5,\n",
       "        -154.5, -151.5, -148.5, -145.5, -142.5, -139.5, -136.5, -133.5,\n",
       "        -130.5, -127.5, -124.5, -121.5, -118.5, -115.5, -112.5, -109.5,\n",
       "        -106.5, -103.5, -100.5, -97.5, -94.5, -91.5, -88.5, -85.5, -82.5,\n",
       "        -79.5, -76.5, -73.5, -70.5, -67.5, -64.5, -61.5, -58.5, -55.5,\n",
       "        -52.5, -49.5, -46.5, -43.5, -40.5, -37.5, -34.5, -31.5, -28.5,\n",
       "        -25.5, -22.5, -19.5, -16.5, -13.5, -10.5, -7.5, -4.5, -1.5, 1.5,\n",
       "        4.5, 7.5, 10.5, 13.5, 16.5, 19.5, 22.5, 25.5, 28.5, 31.5, 34.5,\n",
       "        37.5, 40.5, 43.5, 46.5, 49.5, 52.5, 55.5, 58.5, 61.5, 64.5, 67.5,\n",
       "        70.5, 73.5, 76.5, 79.5, 82.5, 85.5, 88.5, 91.5, 94.5, 97.5, 100.5,\n",
       "        103.5, 106.5, 109.5, 112.5, 115.5, 118.5, 121.5, 124.5, 127.5,\n",
       "        130.5, 133.5, 136.5, 139.5, 142.5, 145.5, 148.5, 151.5, 154.5,\n",
       "        157.5, 160.5, 163.5, 166.5, 169.5, 172.5, 175.5, 178.5],\n",
       "       dtype=object))"
      ]
     },
     "execution_count": 80,
     "metadata": {},
     "output_type": "execute_result"
    }
   ],
   "source": [
    "lat = df.index.values\n",
    "lon = df.columns.values\n",
    "lat, long  # Now go use these to plot in coordinates!"
   ]
  },
  {
   "cell_type": "code",
   "execution_count": 81,
   "id": "56ab41fb",
   "metadata": {},
   "outputs": [],
   "source": [
    "#df2 = pandas.read_excel(sus_map, sheet_name='2um RTF', usecols=np.arange(1,120))\n",
    "#df2.columns = df2.columns.astype(str)\n",
    "#astropy_table = Table.from_pandas(df2)\n",
    "#astropy_table[0:4]"
   ]
  },
  {
   "cell_type": "code",
   "execution_count": 82,
   "id": "a879a4c0",
   "metadata": {},
   "outputs": [
    {
     "data": {
      "image/png": "[encoded data removed]",
      "text/plain": [
       "<Figure size 1200x1000 with 1 Axes>"
      ]
     },
     "metadata": {},
     "output_type": "display_data"
    }
   ],
   "source": [
    "# Origin is at top left, same as the excel spreadsheet, backwards from ds9\n",
    "plt.rcParams['figure.figsize'] = (12, 10)\n",
    "plt.imshow(df, vmin=1E-8, vmax=1E-5, origin='upper')\n",
    "numpyformat = df.to_numpy()\n",
    "fits.writeto(straylight_dir + 'rtf_2um.fits', numpyformat, overwrite=True)"
   ]
  },
  {
   "cell_type": "code",
   "execution_count": 83,
   "id": "46a96221",
   "metadata": {},
   "outputs": [],
   "source": [
    "# Go read the output fits file into ds9 and plot it sensibly"
   ]
  },
  {
   "cell_type": "code",
   "execution_count": 84,
   "id": "22386e53",
   "metadata": {},
   "outputs": [
    {
     "data": {
      "text/plain": [
       "<matplotlib.image.AxesImage at 0x1458ad2d0>"
      ]
     },
     "execution_count": 84,
     "metadata": {},
     "output_type": "execute_result"
    },
    {
     "data": {
      "image/png": "[encoded data removed]",
      "text/plain": [
       "<Figure size 1200x1000 with 1 Axes>"
      ]
     },
     "metadata": {},
     "output_type": "display_data"
    }
   ],
   "source": [
    "plt.imshow(numpyformat, vmin=1E-8, vmax=1E-5, origin='upper')"
   ]
  },
  {
   "cell_type": "code",
   "execution_count": 85,
   "id": "782d57b2",
   "metadata": {},
   "outputs": [
    {
     "name": "stdout",
     "output_type": "stream",
     "text": [
      "flux in top, flux in all, ratio\n"
     ]
    },
    {
     "data": {
      "text/plain": [
       "(0.058021491744187775, 0.09003692459464442, 0.6444188537692347)"
      ]
     },
     "execution_count": 85,
     "metadata": {},
     "output_type": "execute_result"
    },
    {
     "data": {
      "image/png": "[encoded data removed]",
      "text/plain": [
       "<Figure size 1200x1000 with 1 Axes>"
      ]
     },
     "metadata": {},
     "output_type": "display_data"
    }
   ],
   "source": [
    "y1=0 ; y2=11; \n",
    "subset = numpyformat[y1 : y2, :]\n",
    "plt.imshow(subset, vmin=1E-8, vmax=1E-5, origin='upper')\n",
    "print(\"flux in top, flux in all, ratio\")\n",
    "subset.sum(), numpyformat.sum(),   subset.sum() / numpyformat.sum()\n",
    "# This is consistent w Paul saying that most of the light is win 35 degrees of the boresight"
   ]
  },
  {
   "cell_type": "code",
   "execution_count": 86,
   "id": "5ed3e85b",
   "metadata": {},
   "outputs": [],
   "source": [
    "# Try projection=\"mollweide\") in cartopy \n",
    "# https://scitools.org.uk/cartopy/docs/v0.16/matplotlib/advanced_plotting.html"
   ]
  },
  {
   "cell_type": "code",
   "execution_count": 142,
   "id": "1dfab0de",
   "metadata": {},
   "outputs": [
    {
     "data": {
      "image/png": "[encoded data removed]",
      "text/plain": [
       "<Figure size 600x300 with 1 Axes>"
      ]
     },
     "metadata": {},
     "output_type": "display_data"
    }
   ],
   "source": [
    "transform = ccrs.Mercator()\n",
    "plt.figure(figsize=(6, 3))\n",
    "ax = plt.axes(projection=transform)\n",
    "ax.set_global()\n",
    "ax.coastlines()\n",
    "ax.contourf(lon, lat -90, numpyformat, transform=transform, vmin=1E-8, vmax=1E-4) #norm=log\n",
    "ax.set_extent([-180, 180, -90, 90], crs=transform)\n",
    "ax.gridlines(draw_labels=True, crs=ccrs.PlateCarree())\n",
    "plt.show()"
   ]
  },
  {
   "cell_type": "code",
   "execution_count": 105,
   "id": "f7413a28",
   "metadata": {},
   "outputs": [
    {
     "data": {
      "text/plain": [
       "(array([  1.5,   4.5,   7.5,  10.5,  13.5,  16.5,  19.5,  22.5,  25.5,\n",
       "         28.5,  31.5,  34.5,  37.5,  40.5,  43.5,  46.5,  49.5,  52.5,\n",
       "         55.5,  58.5,  61.5,  64.5,  67.5,  70.5,  73.5,  76.5,  79.5,\n",
       "         82.5,  85.5,  88.5,  91.5,  94.5,  97.5, 100.5, 103.5, 106.5,\n",
       "        109.5, 112.5, 115.5, 118.5, 121.5, 124.5, 127.5, 130.5, 133.5,\n",
       "        136.5, 139.5, 142.5, 145.5, 148.5, 151.5, 154.5, 157.5, 160.5,\n",
       "        163.5, 166.5, 169.5, 172.5, 175.5, 178.5]),\n",
       " array([-178.5, -175.5, -172.5, -169.5, -166.5, -163.5, -160.5, -157.5,\n",
       "        -154.5, -151.5, -148.5, -145.5, -142.5, -139.5, -136.5, -133.5,\n",
       "        -130.5, -127.5, -124.5, -121.5, -118.5, -115.5, -112.5, -109.5,\n",
       "        -106.5, -103.5, -100.5, -97.5, -94.5, -91.5, -88.5, -85.5, -82.5,\n",
       "        -79.5, -76.5, -73.5, -70.5, -67.5, -64.5, -61.5, -58.5, -55.5,\n",
       "        -52.5, -49.5, -46.5, -43.5, -40.5, -37.5, -34.5, -31.5, -28.5,\n",
       "        -25.5, -22.5, -19.5, -16.5, -13.5, -10.5, -7.5, -4.5, -1.5, 1.5,\n",
       "        4.5, 7.5, 10.5, 13.5, 16.5, 19.5, 22.5, 25.5, 28.5, 31.5, 34.5,\n",
       "        37.5, 40.5, 43.5, 46.5, 49.5, 52.5, 55.5, 58.5, 61.5, 64.5, 67.5,\n",
       "        70.5, 73.5, 76.5, 79.5, 82.5, 85.5, 88.5, 91.5, 94.5, 97.5, 100.5,\n",
       "        103.5, 106.5, 109.5, 112.5, 115.5, 118.5, 121.5, 124.5, 127.5,\n",
       "        130.5, 133.5, 136.5, 139.5, 142.5, 145.5, 148.5, 151.5, 154.5,\n",
       "        157.5, 160.5, 163.5, 166.5, 169.5, 172.5, 175.5, 178.5],\n",
       "       dtype=object))"
      ]
     },
     "execution_count": 105,
     "metadata": {},
     "output_type": "execute_result"
    }
   ],
   "source": [
    "lat, long"
   ]
  },
  {
   "cell_type": "code",
   "execution_count": null,
   "id": "e67041d0",
   "metadata": {},
   "outputs": [],
   "source": [
    "projection = ccrs.Mercator() #want Mollweide()\n",
    "plt.figure(figsize=(6, 3))\n",
    "ax = plt.axes(projection=projection)\n",
    "ax.set_global()\n",
    "ax.coastlines()\n",
    "\n",
    "ax.plot(lon, lat, numpyformat, transform=ccrs.Mercator())  \n",
    "plt.show()\n"
   ]
  },
  {
   "cell_type": "code",
   "execution_count": null,
   "id": "ed06cb1d",
   "metadata": {},
   "outputs": [],
   "source": [
    "lon.shape, lat.shape, numpyformat.shape, "
   ]
  },
  {
   "cell_type": "code",
   "execution_count": null,
   "id": "da91de38",
   "metadata": {},
   "outputs": [],
   "source": [
    "lon[0:3], lat[0:3]"
   ]
  },
  {
   "cell_type": "code",
   "execution_count": null,
   "id": "5579add9",
   "metadata": {},
   "outputs": [],
   "source": [
    "type(numpyformat)"
   ]
  },
  {
   "cell_type": "code",
   "execution_count": null,
   "id": "969d95fb",
   "metadata": {},
   "outputs": [],
   "source": []
  }
 ],
 "metadata": {
  "kernelspec": {
   "display_name": "Python 3 (ipykernel)",
   "language": "python",
   "name": "python3"
  },
  "language_info": {
   "codemirror_mode": {
    "name": "ipython",
    "version": 3
   },
   "file_extension": ".py",
   "mimetype": "text/x-python",
   "name": "python",
   "nbconvert_exporter": "python",
   "pygments_lexer": "ipython3",
   "version": "3.10.6"
  }
 },
 "nbformat": 4,
 "nbformat_minor": 5
}
